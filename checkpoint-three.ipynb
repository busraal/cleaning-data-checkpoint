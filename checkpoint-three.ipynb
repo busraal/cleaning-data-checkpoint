{
 "cells": [
  {
   "cell_type": "markdown",
   "metadata": {
    "azdata_cell_guid": "26037d32-2047-4157-81ef-595916bd66a0"
   },
   "source": [
    "# Checkpoint Three: Cleaning Data\n",
    "\n",
    "Now you are ready to clean your data. Before starting coding, provide the link to your dataset below.\n",
    "\n",
    "My dataset:\n",
    "\n",
    "Import the necessary libraries and create your dataframe(s)."
   ]
  },
  {
   "cell_type": "code",
   "execution_count": 3,
   "metadata": {
    "azdata_cell_guid": "e8adef8e-d0f2-4640-a179-5997f11e82ca"
   },
   "outputs": [],
   "source": [
    "import pandas as pd\n",
    "import numpy as np\n",
    "import seaborn as sb\n",
    "import matplotlib.pyplot as plt\n",
    "\n",
    "df = pd.read_csv('/Users/busraaltun/Desktop/Assignment-4/newamazonsample.csv')"
   ]
  },
  {
   "cell_type": "markdown",
   "metadata": {
    "azdata_cell_guid": "e172475a-c4ee-414a-8367-9965355dbba6"
   },
   "source": [
    "## Missing Data\n",
    "\n",
    "Test your dataset for missing data and handle it as needed. Make notes in the form of code comments as to your thought process."
   ]
  },
  {
   "cell_type": "code",
   "execution_count": 4,
   "metadata": {
    "azdata_cell_guid": "e1dc66ef-e471-4c27-92e7-ee878c106eba"
   },
   "outputs": [
    {
     "name": "stdout",
     "output_type": "stream",
     "text": [
      "Unnamed: 0 - 0%\n",
      "uniq_id - 0%\n",
      "product_name - 0%\n",
      "manufacturer - 0%\n",
      "price - 0%\n",
      "number_available_in_stock - 0%\n",
      "number_of_reviews - 0%\n",
      "number_of_answered_questions - 8%\n",
      "average_review_rating - 0%\n",
      "amazon_category_and_sub_category - 7%\n",
      "customers_who_bought_this_item_also_bought - 11%\n",
      "description - 7%\n",
      "product_information - 1%\n",
      "product_description - 7%\n",
      "items_customers_buy_after_viewing_this_item - 31%\n",
      "customer_questions_and_answers - 91%\n",
      "customer_reviews - 0%\n",
      "sellers - 31%\n"
     ]
    }
   ],
   "source": [
    "#I want to check that missing values of my data set. \n",
    "\n",
    "for col in df.columns:\n",
    "    pct_missing = np.mean(df[col].isnull())\n",
    "    print('{} - {}%'.format(col, round(pct_missing*100)))"
   ]
  },
  {
   "cell_type": "code",
   "execution_count": 5,
   "metadata": {},
   "outputs": [],
   "source": [
    "#customer_questions_and_answers has too high percentage of missing data, 91%. We can drop that. \n",
    "cols_to_drop = ['customer_questions_and_answers']\n",
    "newdf = df.drop(cols_to_drop, axis=1)"
   ]
  },
  {
   "cell_type": "code",
   "execution_count": 6,
   "metadata": {},
   "outputs": [
    {
     "name": "stdout",
     "output_type": "stream",
     "text": [
      "Index(['Unnamed: 0', 'uniq_id', 'product_name', 'manufacturer', 'price',\n",
      "       'number_available_in_stock', 'number_of_reviews',\n",
      "       'number_of_answered_questions', 'average_review_rating',\n",
      "       'amazon_category_and_sub_category',\n",
      "       'customers_who_bought_this_item_also_bought', 'description',\n",
      "       'product_information', 'product_description',\n",
      "       'items_customers_buy_after_viewing_this_item', 'customer_reviews',\n",
      "       'sellers'],\n",
      "      dtype='object')\n"
     ]
    }
   ],
   "source": [
    "print(newdf.columns)"
   ]
  },
  {
   "cell_type": "markdown",
   "metadata": {
    "azdata_cell_guid": "1233f543-e9a0-4f78-96f5-d7536554102e"
   },
   "source": [
    "## Irregular Data\n",
    "\n",
    "Detect outliers in your dataset and handle them as needed. Use code comments to make notes about your thought process."
   ]
  },
  {
   "cell_type": "code",
   "execution_count": 7,
   "metadata": {
    "azdata_cell_guid": "efed50ae-16f0-471d-98e2-632553a74c12",
    "scrolled": true
   },
   "outputs": [
    {
     "data": {
      "text/plain": [
       "array([[<AxesSubplot:title={'center':'Unnamed: 0'}>,\n",
       "        <AxesSubplot:title={'center':'price'}>],\n",
       "       [<AxesSubplot:title={'center':'number_available_in_stock'}>,\n",
       "        <AxesSubplot:title={'center':'number_of_reviews'}>],\n",
       "       [<AxesSubplot:title={'center':'number_of_answered_questions'}>,\n",
       "        <AxesSubplot:title={'center':'average_review_rating'}>]],\n",
       "      dtype=object)"
      ]
     },
     "execution_count": 7,
     "metadata": {},
     "output_type": "execute_result"
    },
    {
     "data": {
      "image/png": "[encoded data removed]",
      "text/plain": [
       "<Figure size 432x288 with 6 Axes>"
      ]
     },
     "metadata": {
      "needs_background": "light"
     },
     "output_type": "display_data"
    }
   ],
   "source": [
    "# cheking the outliers of float columns \n",
    "\n",
    "newdf.hist(bins=100)"
   ]
  },
  {
   "cell_type": "code",
   "execution_count": 8,
   "metadata": {
    "scrolled": true
   },
   "outputs": [
    {
     "data": {
      "text/plain": [
       "<AxesSubplot:>"
      ]
     },
     "execution_count": 8,
     "metadata": {},
     "output_type": "execute_result"
    },
    {
     "data": {
      "image/png": "[encoded data removed]",
      "text/plain": [
       "<Figure size 432x288 with 1 Axes>"
      ]
     },
     "metadata": {
      "needs_background": "light"
     },
     "output_type": "display_data"
    }
   ],
   "source": [
    "\n",
    "newdf['price'].hist(bins=100)"
   ]
  },
  {
   "cell_type": "code",
   "execution_count": 9,
   "metadata": {},
   "outputs": [
    {
     "data": {
      "text/plain": [
       "<AxesSubplot:>"
      ]
     },
     "execution_count": 9,
     "metadata": {},
     "output_type": "execute_result"
    },
    {
     "data": {
      "image/png": "[encoded data removed]",
      "text/plain": [
       "<Figure size 432x288 with 1 Axes>"
      ]
     },
     "metadata": {
      "needs_background": "light"
     },
     "output_type": "display_data"
    }
   ],
   "source": [
    "newdf.boxplot(column=['price'])"
   ]
  },
  {
   "cell_type": "code",
   "execution_count": 10,
   "metadata": {},
   "outputs": [
    {
     "data": {
      "text/plain": [
       "<AxesSubplot:>"
      ]
     },
     "execution_count": 10,
     "metadata": {},
     "output_type": "execute_result"
    },
    {
     "data": {
      "image/png": "[encoded data removed]",
      "text/plain": [
       "<Figure size 432x288 with 1 Axes>"
      ]
     },
     "metadata": {
      "needs_background": "light"
     },
     "output_type": "display_data"
    }
   ],
   "source": [
    "newdf.boxplot(column=['number_available_in_stock'])"
   ]
  },
  {
   "cell_type": "code",
   "execution_count": 11,
   "metadata": {},
   "outputs": [
    {
     "data": {
      "text/plain": [
       "<AxesSubplot:>"
      ]
     },
     "execution_count": 11,
     "metadata": {},
     "output_type": "execute_result"
    },
    {
     "data": {
      "image/png": "[encoded data removed]",
      "text/plain": [
       "<Figure size 432x288 with 1 Axes>"
      ]
     },
     "metadata": {
      "needs_background": "light"
     },
     "output_type": "display_data"
    }
   ],
   "source": [
    "newdf.boxplot(column=['number_available_in_stock'])"
   ]
  },
  {
   "cell_type": "code",
   "execution_count": 12,
   "metadata": {},
   "outputs": [
    {
     "data": {
      "text/plain": [
       "<AxesSubplot:>"
      ]
     },
     "execution_count": 12,
     "metadata": {},
     "output_type": "execute_result"
    },
    {
     "data": {
      "image/png": "[encoded data removed]",
      "text/plain": [
       "<Figure size 432x288 with 1 Axes>"
      ]
     },
     "metadata": {
      "needs_background": "light"
     },
     "output_type": "display_data"
    }
   ],
   "source": [
    "newdf.boxplot(column=['number_of_reviews'])"
   ]
  },
  {
   "cell_type": "code",
   "execution_count": 13,
   "metadata": {},
   "outputs": [
    {
     "data": {
      "text/plain": [
       "<AxesSubplot:>"
      ]
     },
     "execution_count": 13,
     "metadata": {},
     "output_type": "execute_result"
    },
    {
     "data": {
      "image/png": "[encoded data removed]",
      "text/plain": [
       "<Figure size 432x288 with 1 Axes>"
      ]
     },
     "metadata": {
      "needs_background": "light"
     },
     "output_type": "display_data"
    }
   ],
   "source": [
    "newdf.boxplot(column=['number_of_answered_questions'])"
   ]
  },
  {
   "cell_type": "code",
   "execution_count": 14,
   "metadata": {
    "scrolled": true
   },
   "outputs": [
    {
     "data": {
      "text/plain": [
       "<AxesSubplot:>"
      ]
     },
     "execution_count": 14,
     "metadata": {},
     "output_type": "execute_result"
    },
    {
     "data": {
      "image/png": "[encoded data removed]",
      "text/plain": [
       "<Figure size 432x288 with 1 Axes>"
      ]
     },
     "metadata": {
      "needs_background": "light"
     },
     "output_type": "display_data"
    }
   ],
   "source": [
    "newdf.boxplot(column=['average_review_rating'])"
   ]
  },
  {
   "cell_type": "code",
   "execution_count": 15,
   "metadata": {},
   "outputs": [],
   "source": [
    "# After the checking the outliers of dataset. I think that I don't need to change anything for now. Outliers are \n",
    "#exceptable and I think they are going to be meaningfull with dataset. "
   ]
  },
  {
   "cell_type": "markdown",
   "metadata": {
    "azdata_cell_guid": "6f5b8ee0-bab3-44bc-958a-67d1e4c0407f"
   },
   "source": [
    "## Unnecessary Data\n",
    "\n",
    "Look for the different types of unnecessary data in your dataset and address it as needed. Make sure to use code comments to illustrate your thought process."
   ]
  },
  {
   "cell_type": "code",
   "execution_count": 16,
   "metadata": {
    "scrolled": false
   },
   "outputs": [
    {
     "data": {
      "text/plain": [
       "price  number_available_in_stock  number_of_reviews  number_of_answered_questions  average_review_rating\n",
       "0.00   0.0                        1.0                1.0                           5.0                      104\n",
       "       1.0                        1.0                1.0                           5.0                       86\n",
       "       2.0                        1.0                1.0                           5.0                       47\n",
       "       1.0                        2.0                1.0                           5.0                       32\n",
       "       3.0                        1.0                1.0                           5.0                       31\n",
       "       1.0                        1.0                1.0                           4.0                       29\n",
       "       0.0                        1.0                1.0                           4.0                       24\n",
       "                                                     2.0                           5.0                       23\n",
       "       1.0                        1.0                2.0                           5.0                       22\n",
       "2.99   0.0                        1.0                1.0                           5.0                       20\n",
       "4.99   0.0                        1.0                1.0                           5.0                       19\n",
       "0.00   0.0                        2.0                1.0                           5.0                       18\n",
       "       2.0                        1.0                1.0                           4.0                       18\n",
       "5.99   0.0                        1.0                1.0                           5.0                       18\n",
       "0.00   4.0                        1.0                1.0                           5.0                       17\n",
       "       2.0                        2.0                1.0                           5.0                       17\n",
       "9.99   0.0                        1.0                1.0                           5.0                       15\n",
       "14.99  0.0                        1.0                1.0                           5.0                       14\n",
       "0.00   1.0                        3.0                1.0                           5.0                       14\n",
       "19.99  0.0                        1.0                1.0                           5.0                       14\n",
       "Name: uniq_id, dtype: int64"
      ]
     },
     "execution_count": 16,
     "metadata": {},
     "output_type": "execute_result"
    }
   ],
   "source": [
    "# checking the duplicates depends on the uniq_id column. \n",
    "\n",
    "\n",
    "key = ['price', 'number_available_in_stock', 'number_of_reviews', 'number_of_answered_questions', 'average_review_rating']\n",
    "\n",
    "newdf.fillna(-999).groupby(key)['uniq_id'].count().sort_values(ascending=False).head(20)"
   ]
  },
  {
   "cell_type": "code",
   "execution_count": 20,
   "metadata": {},
   "outputs": [
    {
     "data": {
      "text/plain": [
       "0       False\n",
       "1       False\n",
       "2       False\n",
       "3       False\n",
       "4       False\n",
       "        ...  \n",
       "9995    False\n",
       "9996    False\n",
       "9997    False\n",
       "9998    False\n",
       "9999    False\n",
       "Name: uniq_id, Length: 10000, dtype: bool"
      ]
     },
     "execution_count": 20,
     "metadata": {},
     "output_type": "execute_result"
    }
   ],
   "source": [
    "newdf['uniq_id'].duplicated()"
   ]
  },
  {
   "cell_type": "code",
   "execution_count": 21,
   "metadata": {},
   "outputs": [
    {
     "data": {
      "text/plain": [
       "0"
      ]
     },
     "execution_count": 21,
     "metadata": {},
     "output_type": "execute_result"
    }
   ],
   "source": [
    "newdf['uniq_id'].duplicated().sum()"
   ]
  },
  {
   "cell_type": "code",
   "execution_count": 22,
   "metadata": {},
   "outputs": [],
   "source": [
    "# All products on the dataset have their own uniq_id. Depends on the uniq_id column, data set doesn't have any \n",
    "#duplicates. "
   ]
  },
  {
   "cell_type": "markdown",
   "metadata": {
    "azdata_cell_guid": "53e0cf94-c68a-4fa0-9849-9505a66bcce6"
   },
   "source": [
    "## Inconsistent Data\n",
    "\n",
    "Check for inconsistent data and address any that arises. As always, use code comments to illustrate your thought process."
   ]
  },
  {
   "cell_type": "code",
   "execution_count": 23,
   "metadata": {
    "scrolled": true
   },
   "outputs": [],
   "source": [
    "# Inconsistent data checking part is a little bit problematic for this data set. Object data columns are taken from\n",
    "# amazon website like copy-paste method because of that I am not able clean them perfectly. Consequently, I think \n",
    "# passing this part is better for dataset. "
   ]
  },
  {
   "cell_type": "markdown",
   "metadata": {
    "azdata_cell_guid": "dedc0bfe-17d0-40b2-914f-2ddb54f9ce0d"
   },
   "source": [
    "## Summarize Your Results\n",
    "\n",
    "Make note of your answers to the following questions.\n",
    "\n",
    "1. Did you find all four types of dirty data in your dataset? \n",
    "Actually, no. I found one column has to much missing data and I dropped that. I found couple of outliers but I want to keep that and dataset doesnt have any duplicates. \n",
    "2. Did the process of cleaning your data give you new insights into your dataset?\n",
    "Yes, I found to chance to look at my dataset deeply in this cleaning process and understand that which part of dataset is workable.\n",
    "and also Especially, I didn't have any chance to do anything in inconsistent data part but thanks for that part I understand my dataset more.\n",
    "\n",
    "3. Is there anything you would like to make note of when it comes to manipulating the data and making visualization?\n",
    "\n",
    "I want to check and show relationship between couple of columns. And also depends on my main questions of this project, I am planning to do visualizations. "
   ]
  }
 ],
 "metadata": {
  "kernelspec": {
   "display_name": "Python 3 (ipykernel)",
   "language": "python",
   "name": "python3"
  },
  "language_info": {
   "codemirror_mode": {
    "name": "ipython",
    "version": 3
   },
   "file_extension": ".py",
   "mimetype": "text/x-python",
   "name": "python",
   "nbconvert_exporter": "python",
   "pygments_lexer": "ipython3",
   "version": "3.9.7"
  }
 },
 "nbformat": 4,
 "nbformat_minor": 2
}
